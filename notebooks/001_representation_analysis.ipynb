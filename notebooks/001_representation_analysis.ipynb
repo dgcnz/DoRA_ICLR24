{
  "cells": [
    {
      "cell_type": "markdown",
      "id": "551a23c2",
      "metadata": {
        "id": "551a23c2"
      },
      "source": [
        "# Representation Analysis"
      ]
    },
    {
      "cell_type": "markdown",
      "id": "6136a2d8",
      "metadata": {},
      "source": [
        "## Setup"
      ]
    },
    {
      "cell_type": "code",
      "execution_count": 9,
      "id": "51d8ae82",
      "metadata": {},
      "outputs": [],
      "source": [
        "# based on: https://github.com/naver-ai/cl-vs-mim/blob/main/representation_analysis.ipynb\n",
        "import torch\n",
        "import timm\n",
        "import matplotlib.pyplot as plt\n",
        "from einops import rearrange, reduce, repeat\n",
        "from timm.utils import AverageMeter\n",
        "from functools import partial\n",
        "import os\n",
        "import math\n",
        "import numpy as np\n",
        "from torch.utils.data import DataLoader\n",
        "import torchvision.datasets as datasets\n",
        "import timm.data.transforms_factory as tff\n",
        "from collections import defaultdict\n",
        "import logging\n",
        "import numpy as np\n",
        "import matplotlib.pyplot as plt\n",
        "import matplotlib.cm as cm\n",
        "\n",
        "from sklearn.manifold import TSNE\n",
        "from einops import rearrange, reduce, repeat"
      ]
    },
    {
      "cell_type": "markdown",
      "id": "0461b87a",
      "metadata": {},
      "source": [
        "### Utils"
      ]
    },
    {
      "cell_type": "code",
      "execution_count": 10,
      "id": "74644de7",
      "metadata": {},
      "outputs": [],
      "source": [
        "def get_layer(model, layer_name: str):\n",
        "    layers = layer_name.split(\".\")\n",
        "    for layer in layers:\n",
        "        if layer.isnumeric():\n",
        "            model = model[int(layer)]\n",
        "        elif hasattr(model, layer):\n",
        "            model = getattr(model, layer)\n",
        "        else:\n",
        "            raise ValueError(f\"Layer {layer} not found in {model}\")\n",
        "    return model\n",
        "\n",
        "\n",
        "def clean_tensor(tensor):\n",
        "    if isinstance(tensor, torch.Tensor):\n",
        "        return tensor.detach().cpu()\n",
        "    elif isinstance(tensor, tuple):\n",
        "        return tuple(clean_tensor(t) for t in tensor)\n",
        "    elif isinstance(tensor, list):\n",
        "        return [clean_tensor(t) for t in tensor]\n",
        "    elif isinstance(tensor, dict):\n",
        "        return {k: clean_tensor(v) for k, v in tensor.items()}\n",
        "    else:\n",
        "        return tensor\n",
        "\n",
        "\n",
        "class ActivationCache(object):\n",
        "    def __init__(self, head_name: str=\"head\"):\n",
        "        self.cache = defaultdict(dict)\n",
        "        self.hooks = {}\n",
        "        self.head_name = head_name\n",
        "        self.logger = logging.getLogger(__name__)\n",
        "\n",
        "    def clear(self):\n",
        "        self.cache = {}\n",
        "\n",
        "    def _hook_fn(self, layer_name: str):\n",
        "        def hook_fn(module, input, output):\n",
        "            self.cache[layer_name][\"input\"] = clean_tensor(input)\n",
        "            self.cache[layer_name][\"output\"] = clean_tensor(output)\n",
        "\n",
        "        return hook_fn\n",
        "\n",
        "    def hook_layer(self, model, layer_name: str):\n",
        "        layer = get_layer(model, layer_name)\n",
        "        # print(f\"Hooking {layer_name}\")\n",
        "        self.logger.debug(f\"Hooking {layer_name}: {layer.__class__}\")\n",
        "        hook = layer.register_forward_hook(self._hook_fn(layer_name))\n",
        "        return hook\n",
        "\n",
        "    def hook(self, model):\n",
        "        # get Attention params: H, D\n",
        "        self.H = model.blocks[0].attn.num_heads\n",
        "        self.D = model.blocks[0].attn.proj.weight.shape[0]  # (D, D)\n",
        "\n",
        "        # hook the layers\n",
        "        self.n_blocks = len(model.blocks)\n",
        "        for i in range(self.n_blocks):\n",
        "            # deactivate fused_attn to get access to the individual components\n",
        "            model.blocks[i].attn.fused_attn = False\n",
        "            for layer_name in self._hooked_layers_per_block(i):\n",
        "                self.hooks[layer_name] = self.hook_layer(model, layer_name)\n",
        "\n",
        "        # hook the head \n",
        "        self.hooks[self.head_name] = self.hook_layer(model, self.head_name)\n",
        "        # self.hooks[''] = model.register_forward_hook(self._hook_fn(''))\n",
        "\n",
        "    def get_attn_ft(self, block_idx: int):\n",
        "        proj_input = self.cache[f\"blocks.{block_idx}.attn.proj\"][\"input\"][0]\n",
        "        B, N, _ = proj_input.shape\n",
        "\n",
        "        # attn_ft: B, H, N, C//H\n",
        "        # proj_input = attn_ft.transpose(1, 2).reshape(B, N, C)\n",
        "        # reverse operation\n",
        "        attn_ft = proj_input.reshape(B, N, self.H, self.D // self.H).transpose(1, 2)\n",
        "        return attn_ft\n",
        "\n",
        "    def get_attn(self, block_idx: int):\n",
        "        return self.cache[f\"blocks.{block_idx}.attn.attn_drop\"][\"output\"]\n",
        "    \n",
        "    def get_attns(self):\n",
        "        attns = []\n",
        "        for idx in range(self.n_blocks):\n",
        "            attns.append(self.get_attn(idx))\n",
        "        return attns\n",
        "\n",
        "    def get_zs(self):\n",
        "        # zs: 0 = input of first block, same as input of first norm1\n",
        "        # zs: i = input of norm2 of block i // 2 + 1\n",
        "        # zs: i+1 = output of block i // 2 + 2, same as input of norm1 of the next block :0\n",
        "        # zs: n = output of head, same as output of model\n",
        "        zs = []\n",
        "        zs.append(self.cache[\"blocks.0\"][\"input\"][0])\n",
        "        for idx in range(self.n_blocks):\n",
        "            \"\"\"\n",
        "            class Block:\n",
        "                def forward(self, x: torch.Tensor) -> torch.Tensor:\n",
        "                    x = x + self.drop_path1(self.ls1(self.attn(self.norm1(x))))\n",
        "                    ---> hook on this x\n",
        "                    x = x + self.drop_path2(self.ls2(self.mlp(self.norm2(x))))\n",
        "                    ---> hook on this x\n",
        "                    return x\n",
        "            \"\"\"\n",
        "            z1 = self.cache[f\"blocks.{idx}.norm2\"][\"input\"][0]\n",
        "            # zs.append(self.cache[f'blocks.{idx}']['output'])\n",
        "            #   This works too for standard timm ViTs,\n",
        "            #   but not for custom Blocks that output multiple tensors,\n",
        "            #   like the cl_vs_mim ViT\n",
        "            mlp_output = self.cache[f\"blocks.{idx}.mlp\"][\"output\"]\n",
        "            z2 = mlp_output + z1\n",
        "            zs.extend([z1, z2])\n",
        "\n",
        "        # TODO: careful, this could change depending on the model\n",
        "        # zs.append(self.cache['']['output'])\n",
        "        try: \n",
        "            zs.append(self.cache[self.head_name][\"output\"])\n",
        "        except KeyError:\n",
        "            self.logger.warning(f\"Head output not found in cache. Appending None.\")\n",
        "            zs.append(None)\n",
        "        return zs\n",
        "\n",
        "    @staticmethod\n",
        "    def _hooked_layers_per_block(i):\n",
        "        return [\n",
        "            f\"blocks.{i}\",  # input -> zs[0]\n",
        "            f\"blocks.{i}.norm2\",  # input -> zs[i]\n",
        "            f\"blocks.{i}.mlp\",  # output + zs[i] -> zs[i+1]\n",
        "            f\"blocks.{i}.attn.attn_drop\",  # output -> attn\n",
        "            f\"blocks.{i}.attn.proj\",  # input -> attn_ft\n",
        "        ]\n",
        "\n",
        "    def unhook(self):\n",
        "        for hook in self.hooks.values():\n",
        "            hook.remove()\n",
        "        self.hooks = {}\n"
      ]
    },
    {
      "cell_type": "code",
      "execution_count": 11,
      "id": "cff2ec4a",
      "metadata": {},
      "outputs": [],
      "source": [
        "def subsample(dataset, ratio, random=False):\n",
        "    \"\"\"\n",
        "    Get indices of subsampled dataset with given ratio.\n",
        "    \"\"\"\n",
        "    idxs = list(range(len(dataset)))\n",
        "    idxs_sorted = {}\n",
        "    for idx, target in zip(idxs, dataset.targets):\n",
        "        if target in idxs_sorted:\n",
        "            idxs_sorted[target].append(idx)\n",
        "        else:\n",
        "            idxs_sorted[target] = [idx]\n",
        "\n",
        "    for idx in idxs_sorted:\n",
        "        size = len(idxs_sorted[idx])\n",
        "        lenghts = (int(size * ratio), size - int(size * ratio))\n",
        "        if random:\n",
        "            idxs_sorted[idx] = torch.utils.data.random_split(idxs_sorted[idx], lenghts)[0]\n",
        "        else:\n",
        "            idxs_sorted[idx] = idxs_sorted[idx][:lenghts[0]]\n",
        "\n",
        "    idxs = [idx for idxs in idxs_sorted.values() for idx in idxs]\n",
        "    return idxs"
      ]
    },
    {
      "cell_type": "markdown",
      "id": "ba3278e6",
      "metadata": {},
      "source": [
        "### Dataset"
      ]
    },
    {
      "cell_type": "code",
      "execution_count": 12,
      "id": "b823ed73",
      "metadata": {},
      "outputs": [],
      "source": [
        "\n",
        "# !wget https://s3.amazonaws.com/fast-ai-imageclas/imagenette2-160.tgz -P ~/development/datasets\n",
        "# !gunzip ~/development/datasets/imagenette2-160.tgz -d ~/development/datasets\n",
        "# !tar -xvf ~/development/datasets/imagenette2-160.tar -C ~/development/datasets"
      ]
    },
    {
      "cell_type": "code",
      "execution_count": 13,
      "id": "001c712b",
      "metadata": {
        "cellView": "form",
        "colab": {
          "base_uri": "https://localhost:8080/",
          "height": 37
        },
        "id": "001c712b",
        "outputId": "bcf4dbeb-c397-4af2-caf0-41304b7e4912"
      },
      "outputs": [],
      "source": [
        "\n",
        "# use imagenette (a small subset of imagenet) as an example for simplicity\n",
        "imagenet_path = \"~/development/datasets/imagenette2-160\"\n",
        "\n",
        "imagenet_mean = np.array([0.485, 0.456, 0.406])\n",
        "imagenet_std = np.array([0.229, 0.224, 0.225])\n",
        "\n",
        "transform_test = tff.transforms_imagenet_eval(\n",
        "    img_size=224, mean=imagenet_mean, std=imagenet_std,\n",
        ")\n",
        "\n",
        "test_dir = os.path.join(imagenet_path, 'val')\n",
        "dataset_test = datasets.ImageFolder(test_dir, transform_test)\n",
        "dataset_test = torch.utils.data.Subset(\n",
        "    dataset_test, \n",
        "    subsample(dataset_test, ratio=math.pow(2,-6))  # use a subsampled batch\n",
        ")\n",
        "\n",
        "dataset_test = DataLoader(\n",
        "    dataset_test, \n",
        "    num_workers=1, \n",
        "    batch_size=64,\n",
        ")"
      ]
    },
    {
      "cell_type": "markdown",
      "id": "62f9f784",
      "metadata": {
        "id": "62f9f784"
      },
      "source": [
        "## Load the Models"
      ]
    },
    {
      "cell_type": "code",
      "execution_count": 14,
      "id": "d3e028dc",
      "metadata": {},
      "outputs": [],
      "source": [
        "def load_dora():\n",
        "    return torch.hub.load(\"dgcnz/DoRA_ICLR24\", model=\"vit_small_patch16_224_dora_wt_venice_ep100\").cuda().eval()"
      ]
    },
    {
      "cell_type": "code",
      "execution_count": 15,
      "id": "78722689",
      "metadata": {},
      "outputs": [],
      "source": [
        "def load_dino():\n",
        "    return timm.create_model('vit_small_patch16_224.dino', pretrained=True).cuda().eval()"
      ]
    },
    {
      "cell_type": "markdown",
      "id": "d2aa142b",
      "metadata": {
        "id": "d2aa142b"
      },
      "source": [
        "## Fourier Analysis"
      ]
    },
    {
      "cell_type": "code",
      "execution_count": 16,
      "id": "2610c037",
      "metadata": {},
      "outputs": [
        {
          "name": "stdout",
          "output_type": "stream",
          "text": [
            "Running dora\n"
          ]
        },
        {
          "name": "stderr",
          "output_type": "stream",
          "text": [
            "Using cache found in /home/dgcnz/.cache/torch/hub/dgcnz_DoRA_ICLR24_main\n"
          ]
        },
        {
          "name": "stdout",
          "output_type": "stream",
          "text": [
            "Take key teacher in provided checkpoint dict\n",
            "Pretrained weights found at vit_small_patch16_224.dora.wt_venice.ep100.pth and loaded with msg: _IncompatibleKeys(missing_keys=[], unexpected_keys=['head.mlp.0.weight', 'head.mlp.0.bias', 'head.mlp.2.weight', 'head.mlp.2.bias', 'head.mlp.4.weight', 'head.mlp.4.bias', 'head.last_layer.weight_g', 'head.last_layer.weight_v'])\n"
          ]
        },
        {
          "name": "stderr",
          "output_type": "stream",
          "text": [
            "Head output not found in cache. Appending None.\n"
          ]
        },
        {
          "name": "stdout",
          "output_type": "stream",
          "text": [
            "torch.Size([25, 7])\n",
            "Running DINO\n"
          ]
        },
        {
          "data": {
            "application/vnd.jupyter.widget-view+json": {
              "model_id": "0ac3ab72f9474b8082be17a1410715a3",
              "version_major": 2,
              "version_minor": 0
            },
            "text/plain": [
              "model.safetensors:   0%|          | 0.00/86.7M [00:00<?, ?B/s]"
            ]
          },
          "metadata": {},
          "output_type": "display_data"
        },
        {
          "name": "stdout",
          "output_type": "stream",
          "text": [
            "torch.Size([25, 7])\n"
          ]
        },
        {
          "data": {
            "image/png": "[encoded data removed]",
            "text/plain": [
              "<Figure size 630x600 with 1 Axes>"
            ]
          },
          "metadata": {},
          "output_type": "display_data"
        }
      ],
      "source": [
        "# build off the implementation of https://github.com/xxxnell/how-do-vits-work\n",
        "\n",
        "\n",
        "def fourier(x):\n",
        "    \"\"\"2D Fourier transform\"\"\"\n",
        "    f = torch.fft.fft2(x)\n",
        "    f = f.abs() + 1e-6\n",
        "    f = f.log()\n",
        "    return f\n",
        "\n",
        "def shift(x):  \n",
        "    \"\"\"shift Fourier transformed feature map\"\"\"\n",
        "    b, c, h, w = x.shape\n",
        "    return torch.roll(x, shifts=(int(h/2), int(w/2)), dims=(2, 3))\n",
        "\n",
        "def get_fourier_latents(latents):\n",
        "    \"\"\"Fourier transform feature maps\"\"\"\n",
        "    fourier_latents = []\n",
        "    for latent in latents:  # `latents` is a list of hidden feature maps in latent spaces\n",
        "        latent = latent.cpu()\n",
        "        b, n, c = latent.shape\n",
        "        h, w = int(math.sqrt(n)), int(math.sqrt(n))\n",
        "        latent = rearrange(latent, \"b (h w) c -> b c h w\", h=h, w=w)\n",
        "        \n",
        "        latent = fourier(latent)\n",
        "        latent = shift(latent).mean(dim=(0, 1))\n",
        "        latent = latent.diag()[int(h/2):]  # only use the half-diagonal components\n",
        "        latent = latent - latent[0]  # visualize 'relative' log amplitudes \n",
        "                                     # (i.e., low-freq amp - high freq amp)\n",
        "        fourier_latents.append(latent)\n",
        "\n",
        "    return fourier_latents\n",
        "\n",
        "fig, ax = plt.subplots(1, 1, figsize=(4.2, 4), dpi=150)\n",
        "models = {\n",
        "    \"dora\": load_dora,\n",
        "    \"DINO\": load_dino,\n",
        "}\n",
        "\n",
        "for label, loader in models.items():\n",
        "    print(f\"Running {label}\")\n",
        "    model = loader()\n",
        "    head_name = \"clf\" if label == \"PARTv1_ft\" else \"head\"\n",
        "    act = ActivationCache(head_name)\n",
        "    # act.logger.setLevel(logging.DEBUG)\n",
        "    act.hook(model)\n",
        "    fourier_latents = AverageMeter()\n",
        "    for i, (xs, ys) in enumerate(dataset_test):\n",
        "        with torch.no_grad():\n",
        "            xs = xs.cuda()\n",
        "            _ = model(xs)\n",
        "\n",
        "        zs = act.get_zs()\n",
        "        zs = zs[:-1] # skips model output\n",
        "\n",
        "        # if model has cls token remove it\n",
        "        if model.cls_token is not None:\n",
        "            latents = [z[:,1:,:] for z in zs]\n",
        "        else:\n",
        "            latents = [z for z in zs]\n",
        "        _fourier_latents = torch.stack(get_fourier_latents(latents))\n",
        "        fourier_latents.update(_fourier_latents)\n",
        "\n",
        "        if i > -1:\n",
        "            break\n",
        "\n",
        "    print(fourier_latents.avg.shape)       \n",
        "    fourier_latents = fourier_latents.avg\n",
        "    ax.plot(range(13), fourier_latents[:,-1][::2], marker=\"o\", label=label)\n",
        "\n",
        "ax.set_xlabel(\"Depth\")\n",
        "ax.set_ylabel(\"$\\Delta$ Log amplitude\")\n",
        "# ax.set_ylim(top=-3, bottom=-3.5)\n",
        "ax.legend()\n",
        "plt.show()\n"
      ]
    }
  ],
  "metadata": {
    "accelerator": "GPU",
    "colab": {
      "gpuType": "T4",
      "provenance": []
    },
    "gpuClass": "standard",
    "kernelspec": {
      "display_name": ".venv",
      "language": "python",
      "name": "python3"
    },
    "language_info": {
      "codemirror_mode": {
        "name": "ipython",
        "version": 3
      },
      "file_extension": ".py",
      "mimetype": "text/x-python",
      "name": "python",
      "nbconvert_exporter": "python",
      "pygments_lexer": "ipython3",
      "version": "3.10.0"
    }
  },
  "nbformat": 4,
  "nbformat_minor": 5
}
